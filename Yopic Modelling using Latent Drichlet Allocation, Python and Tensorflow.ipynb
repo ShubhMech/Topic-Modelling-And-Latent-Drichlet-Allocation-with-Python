{
 "cells": [
  {
   "cell_type": "code",
   "execution_count": 8,
   "id": "30587cad-d39b-40ec-af3a-6db4ad1982ec",
   "metadata": {
    "scrolled": true
   },
   "outputs": [],
   "source": [
    "import pandas as pd\n",
    "path= r\"C:\\Users\\Asus\\Pictures\\npr.csv\""
   ]
  },
  {
   "cell_type": "code",
   "execution_count": 9,
   "id": "88ba51ad-a3a4-48b0-846e-86f2d1f005cd",
   "metadata": {
    "scrolled": true
   },
   "outputs": [],
   "source": [
    "file= pd.read_csv(path)"
   ]
  },
  {
   "cell_type": "code",
   "execution_count": 10,
   "id": "cd87ad8e-99c7-46fa-abe8-48549f4602e1",
   "metadata": {
    "scrolled": true
   },
   "outputs": [
    {
     "data": {
      "text/html": [
       "<div>\n",
       "<style scoped>\n",
       "    .dataframe tbody tr th:only-of-type {\n",
       "        vertical-align: middle;\n",
       "    }\n",
       "\n",
       "    .dataframe tbody tr th {\n",
       "        vertical-align: top;\n",
       "    }\n",
       "\n",
       "    .dataframe thead th {\n",
       "        text-align: right;\n",
       "    }\n",
       "</style>\n",
       "<table border=\"1\" class=\"dataframe\">\n",
       "  <thead>\n",
       "    <tr style=\"text-align: right;\">\n",
       "      <th></th>\n",
       "      <th>Article</th>\n",
       "    </tr>\n",
       "  </thead>\n",
       "  <tbody>\n",
       "    <tr>\n",
       "      <th>0</th>\n",
       "      <td>In the Washington of 2016, even when the polic...</td>\n",
       "    </tr>\n",
       "    <tr>\n",
       "      <th>1</th>\n",
       "      <td>Donald Trump has used Twitter  —   his prefe...</td>\n",
       "    </tr>\n",
       "    <tr>\n",
       "      <th>2</th>\n",
       "      <td>Donald Trump is unabashedly praising Russian...</td>\n",
       "    </tr>\n",
       "    <tr>\n",
       "      <th>3</th>\n",
       "      <td>Updated at 2:50 p. m. ET, Russian President Vl...</td>\n",
       "    </tr>\n",
       "    <tr>\n",
       "      <th>4</th>\n",
       "      <td>From photography, illustration and video, to d...</td>\n",
       "    </tr>\n",
       "  </tbody>\n",
       "</table>\n",
       "</div>"
      ],
      "text/plain": [
       "                                             Article\n",
       "0  In the Washington of 2016, even when the polic...\n",
       "1    Donald Trump has used Twitter  —   his prefe...\n",
       "2    Donald Trump is unabashedly praising Russian...\n",
       "3  Updated at 2:50 p. m. ET, Russian President Vl...\n",
       "4  From photography, illustration and video, to d..."
      ]
     },
     "execution_count": 10,
     "metadata": {},
     "output_type": "execute_result"
    }
   ],
   "source": [
    "file.head()"
   ]
  },
  {
   "cell_type": "code",
   "execution_count": 11,
   "id": "ce2e60d4-7d83-4d7b-91a3-97fb18f06ae6",
   "metadata": {
    "scrolled": true
   },
   "outputs": [],
   "source": [
    "from sklearn.feature_extraction.text import CountVectorizer"
   ]
  },
  {
   "cell_type": "code",
   "execution_count": 22,
   "id": "f7358940-5dad-4498-b00e-88f927de46a1",
   "metadata": {
    "scrolled": true
   },
   "outputs": [],
   "source": [
    "cv= CountVectorizer(max_df= 0.9, min_df= 0.02,stop_words='english')"
   ]
  },
  {
   "cell_type": "code",
   "execution_count": 23,
   "id": "5aae91e5-2ac8-4440-9d10-8419195054b8",
   "metadata": {
    "scrolled": true
   },
   "outputs": [],
   "source": [
    "dtm=vectorized= cv.fit_transform(file['Article'])"
   ]
  },
  {
   "cell_type": "code",
   "execution_count": 24,
   "id": "e62dab69-2b62-4eb1-ba0f-269652a6b1e1",
   "metadata": {
    "scrolled": true
   },
   "outputs": [
    {
     "data": {
      "text/plain": [
       "<11992x2620 sparse matrix of type '<class 'numpy.int64'>'\n",
       "\twith 1941137 stored elements in Compressed Sparse Row format>"
      ]
     },
     "execution_count": 24,
     "metadata": {},
     "output_type": "execute_result"
    }
   ],
   "source": [
    "dtm"
   ]
  },
  {
   "cell_type": "code",
   "execution_count": 25,
   "id": "336f586d-49a2-4e11-b76a-c5195500739d",
   "metadata": {
    "scrolled": true
   },
   "outputs": [],
   "source": [
    "from sklearn.decomposition import LatentDirichletAllocation as LDA_"
   ]
  },
  {
   "cell_type": "code",
   "execution_count": 26,
   "id": "bd4a7ad0-0931-427a-931e-74ccb0d0f2a2",
   "metadata": {
    "scrolled": true
   },
   "outputs": [],
   "source": [
    "LDA= LDA_(n_components= 10)"
   ]
  },
  {
   "cell_type": "code",
   "execution_count": 60,
   "id": "aea44aa8-5d4f-405c-bcb8-2b5003e9bcf7",
   "metadata": {
    "scrolled": true
   },
   "outputs": [
    {
     "data": {
      "text/plain": [
       "LatentDirichletAllocation()"
      ]
     },
     "execution_count": 60,
     "metadata": {},
     "output_type": "execute_result"
    }
   ],
   "source": [
    "LDA.fit(dtm)"
   ]
  },
  {
   "cell_type": "code",
   "execution_count": 61,
   "id": "c688f432-08e1-4173-9b04-72f01cc6290a",
   "metadata": {
    "scrolled": true
   },
   "outputs": [
    {
     "data": {
      "text/plain": [
       "2620"
      ]
     },
     "execution_count": 61,
     "metadata": {},
     "output_type": "execute_result"
    }
   ],
   "source": [
    "len(cv.get_feature_names())"
   ]
  },
  {
   "cell_type": "code",
   "execution_count": 62,
   "id": "49690a51-7dd8-4a1d-aca7-59a0ddc1d8ea",
   "metadata": {
    "scrolled": true
   },
   "outputs": [
    {
     "data": {
      "text/plain": [
       "array([[2.17201746e+03, 7.16145669e+02, 3.86043237e+02, ...,\n",
       "        7.32591159e+01, 3.93029341e+00, 7.70984169e+01],\n",
       "       [1.66016853e+02, 1.32657591e+02, 4.75983970e+01, ...,\n",
       "        1.00058972e-01, 1.00045860e-01, 1.71277129e+01],\n",
       "       [5.89223996e+02, 5.00640131e+02, 2.25184400e+02, ...,\n",
       "        1.43149050e+02, 1.21473570e+02, 6.04795880e+01],\n",
       "       ...,\n",
       "       [1.73369883e+02, 2.79046592e+02, 3.37007394e+01, ...,\n",
       "        9.06760617e+01, 5.32916571e+01, 4.37233827e+01],\n",
       "       [6.87354926e+02, 5.40965304e+02, 3.05200638e+02, ...,\n",
       "        5.51346023e+01, 3.21293971e+01, 7.23541413e+01],\n",
       "       [7.69032470e+00, 1.76062821e+02, 5.98302458e+01, ...,\n",
       "        1.63260844e+02, 1.13004834e+02, 2.31172718e+01]])"
      ]
     },
     "execution_count": 62,
     "metadata": {},
     "output_type": "execute_result"
    }
   ],
   "source": [
    "LDA.components_"
   ]
  },
  {
   "cell_type": "code",
   "execution_count": 63,
   "id": "077b1962-5469-44e5-8aaf-afd96b916111",
   "metadata": {
    "scrolled": true
   },
   "outputs": [
    {
     "data": {
      "text/plain": [
       "10"
      ]
     },
     "execution_count": 63,
     "metadata": {},
     "output_type": "execute_result"
    }
   ],
   "source": [
    "len(LDA.components_)"
   ]
  },
  {
   "cell_type": "code",
   "execution_count": 64,
   "id": "d1aa95b9-41de-4216-83a2-72307feabfae",
   "metadata": {
    "scrolled": true
   },
   "outputs": [
    {
     "data": {
      "text/plain": [
       "(2620,)"
      ]
     },
     "execution_count": 64,
     "metadata": {},
     "output_type": "execute_result"
    }
   ],
   "source": [
    "LDA.components_[0].shape"
   ]
  },
  {
   "cell_type": "code",
   "execution_count": 65,
   "id": "3fde5317-39e1-4e46-86a4-88cc798a7932",
   "metadata": {
    "scrolled": true
   },
   "outputs": [
    {
     "data": {
      "text/plain": [
       "array([1507, 1484, 2612, 2223, 2032, 1674, 1675,  378, 2044, 1112],\n",
       "      dtype=int64)"
      ]
     },
     "execution_count": 65,
     "metadata": {},
     "output_type": "execute_result"
    }
   ],
   "source": [
    "LDA.components_[0].argsort()[-10:]"
   ]
  },
  {
   "cell_type": "code",
   "execution_count": 66,
   "id": "a30fcfe0-772a-48ac-9c3a-baf63f94f207",
   "metadata": {
    "scrolled": true
   },
   "outputs": [
    {
     "data": {
      "text/plain": [
       "1112"
      ]
     },
     "execution_count": 66,
     "metadata": {},
     "output_type": "execute_result"
    }
   ],
   "source": [
    "LDA.components_[0].argmax()"
   ]
  },
  {
   "cell_type": "code",
   "execution_count": 67,
   "id": "3a74cf60-c511-4b05-85f9-4a23704dc770",
   "metadata": {
    "scrolled": true
   },
   "outputs": [
    {
     "data": {
      "text/plain": [
       "'year'"
      ]
     },
     "execution_count": 67,
     "metadata": {},
     "output_type": "execute_result"
    }
   ],
   "source": [
    "cv.get_feature_names()[2612]"
   ]
  },
  {
   "cell_type": "code",
   "execution_count": 68,
   "id": "5aed3ed6-5b01-4014-9edc-8fe02b3fc21a",
   "metadata": {
    "scrolled": true
   },
   "outputs": [
    {
     "name": "stdout",
     "output_type": "stream",
     "text": [
      "money\n",
      "million\n",
      "year\n",
      "state\n",
      "said\n",
      "people\n",
      "percent\n",
      "care\n",
      "says\n",
      "health\n"
     ]
    }
   ],
   "source": [
    "for indices in LDA.components_[0].argsort()[-10:]:\n",
    "    print(cv.get_feature_names()[indices])"
   ]
  },
  {
   "cell_type": "markdown",
   "id": "ffccf5c6-6bcc-4638-a336-013711cdb01b",
   "metadata": {},
   "source": [
    "#### Least Common"
   ]
  },
  {
   "cell_type": "code",
   "execution_count": 69,
   "id": "fff3c60d-88ca-4b6e-a630-8735025b74fc",
   "metadata": {
    "scrolled": true
   },
   "outputs": [
    {
     "name": "stdout",
     "output_type": "stream",
     "text": [
      "album\n",
      "muslims\n",
      "musical\n",
      "characters\n",
      "isis\n",
      "songs\n",
      "muslim\n",
      "syrian\n",
      "nomination\n",
      "russian\n"
     ]
    }
   ],
   "source": [
    "for indices in LDA.components_[0].argsort()[:10]:\n",
    "    print(cv.get_feature_names()[indices])"
   ]
  },
  {
   "cell_type": "markdown",
   "id": "73eeec7a-010d-4dbd-a64f-d15e5b81fa0b",
   "metadata": {},
   "source": [
    "## Hence Proved, Republicans are more popular than Democrats :}"
   ]
  },
  {
   "cell_type": "code",
   "execution_count": 70,
   "id": "2918628f-fa5e-4cc1-b779-ab67c349a80d",
   "metadata": {
    "scrolled": true
   },
   "outputs": [
    {
     "name": "stdout",
     "output_type": "stream",
     "text": [
      "Topic # 0\n",
      "\n",
      "\n",
      "\n",
      "money\n",
      "million\n",
      "year\n",
      "state\n",
      "said\n",
      "people\n",
      "percent\n",
      "care\n",
      "says\n",
      "health\n",
      "\n",
      "\n",
      "\n",
      "\n",
      "Topic # 1\n",
      "\n",
      "\n",
      "\n",
      "told\n",
      "new\n",
      "fbi\n",
      "investigation\n",
      "npr\n",
      "company\n",
      "media\n",
      "information\n",
      "news\n",
      "said\n",
      "\n",
      "\n",
      "\n",
      "\n",
      "Topic # 2\n",
      "\n",
      "\n",
      "\n",
      "like\n",
      "research\n",
      "health\n",
      "children\n",
      "university\n",
      "study\n",
      "students\n",
      "people\n",
      "school\n",
      "says\n",
      "\n",
      "\n",
      "\n",
      "\n",
      "Topic # 3\n",
      "\n",
      "\n",
      "\n",
      "want\n",
      "going\n",
      "really\n",
      "know\n",
      "don\n",
      "think\n",
      "just\n",
      "like\n",
      "people\n",
      "says\n",
      "\n",
      "\n",
      "\n",
      "\n",
      "Topic # 4\n",
      "\n",
      "\n",
      "\n",
      "russia\n",
      "congress\n",
      "senate\n",
      "administration\n",
      "white\n",
      "obama\n",
      "house\n",
      "said\n",
      "president\n",
      "trump\n",
      "\n",
      "\n",
      "\n",
      "\n",
      "Topic # 5\n",
      "\n",
      "\n",
      "\n",
      "justice\n",
      "rights\n",
      "case\n",
      "people\n",
      "state\n",
      "law\n",
      "says\n",
      "court\n",
      "police\n",
      "said\n",
      "\n",
      "\n",
      "\n",
      "\n",
      "Topic # 6\n",
      "\n",
      "\n",
      "\n",
      "north\n",
      "government\n",
      "according\n",
      "country\n",
      "china\n",
      "reports\n",
      "says\n",
      "women\n",
      "people\n",
      "said\n",
      "\n",
      "\n",
      "\n",
      "\n",
      "Topic # 7\n",
      "\n",
      "\n",
      "\n",
      "sanders\n",
      "election\n",
      "republican\n",
      "party\n",
      "state\n",
      "voters\n",
      "campaign\n",
      "said\n",
      "clinton\n",
      "trump\n",
      "\n",
      "\n",
      "\n",
      "\n",
      "Topic # 8\n",
      "\n",
      "\n",
      "\n",
      "water\n",
      "team\n",
      "just\n",
      "year\n",
      "like\n",
      "time\n",
      "world\n",
      "years\n",
      "new\n",
      "says\n",
      "\n",
      "\n",
      "\n",
      "\n",
      "Topic # 9\n",
      "\n",
      "\n",
      "\n",
      "know\n",
      "life\n",
      "way\n",
      "people\n",
      "time\n",
      "new\n",
      "black\n",
      "just\n",
      "music\n",
      "like\n",
      "\n",
      "\n",
      "\n",
      "\n"
     ]
    }
   ],
   "source": [
    "for index, topics in enumerate(LDA.components_):\n",
    "    print(\"Topic #\", index)\n",
    "    print(\"\\n\\n\")\n",
    "    \n",
    "    for indices in LDA.components_[index].argsort()[-10:]:\n",
    "        \n",
    "        print(cv.get_feature_names()[indices])\n",
    "    print(\"\\n\\n\\n\")"
   ]
  },
  {
   "cell_type": "code",
   "execution_count": 71,
   "id": "9c279919-c6c1-44f0-86af-ac35434dcf50",
   "metadata": {
    "scrolled": true
   },
   "outputs": [
    {
     "data": {
      "text/plain": [
       "(11992, 1)"
      ]
     },
     "execution_count": 71,
     "metadata": {},
     "output_type": "execute_result"
    }
   ],
   "source": [
    "file.shape"
   ]
  },
  {
   "cell_type": "code",
   "execution_count": 72,
   "id": "23b9e4e7-81b4-4e64-83f6-4466a8ed37af",
   "metadata": {
    "scrolled": true
   },
   "outputs": [
    {
     "data": {
      "text/plain": [
       "(11992, 2620)"
      ]
     },
     "execution_count": 72,
     "metadata": {},
     "output_type": "execute_result"
    }
   ],
   "source": [
    "dtm.shape"
   ]
  },
  {
   "cell_type": "code",
   "execution_count": 59,
   "id": "dfe8d988-b793-4fa1-a579-6085ec90ed98",
   "metadata": {
    "scrolled": true
   },
   "outputs": [
    {
     "data": {
      "text/plain": [
       "(10, 2620)"
      ]
     },
     "execution_count": 59,
     "metadata": {},
     "output_type": "execute_result"
    }
   ],
   "source": [
    "LDA.components_.shape"
   ]
  },
  {
   "cell_type": "code",
   "execution_count": 74,
   "id": "ac196f29-1f2f-4222-9723-98364a687fee",
   "metadata": {
    "scrolled": true
   },
   "outputs": [],
   "source": [
    "res=LDA.transform(dtm)"
   ]
  },
  {
   "cell_type": "code",
   "execution_count": 75,
   "id": "530025a8-9917-43f7-91dd-2ba7076298c7",
   "metadata": {
    "scrolled": true,
    "tags": []
   },
   "outputs": [
    {
     "data": {
      "text/plain": [
       "(11992, 10)"
      ]
     },
     "execution_count": 75,
     "metadata": {},
     "output_type": "execute_result"
    }
   ],
   "source": [
    "res.shape"
   ]
  },
  {
   "cell_type": "code",
   "execution_count": 78,
   "id": "c8ea1315-48d0-414e-b1b0-93d63e977814",
   "metadata": {},
   "outputs": [
    {
     "data": {
      "text/plain": [
       "array([[9, 2, 3, ..., 7, 1, 4],\n",
       "       [2, 0, 5, ..., 1, 6, 4],\n",
       "       [0, 2, 9, ..., 7, 1, 4],\n",
       "       ...,\n",
       "       [4, 1, 0, ..., 6, 2, 8],\n",
       "       [8, 0, 2, ..., 9, 4, 7],\n",
       "       [1, 2, 4, ..., 3, 7, 6]], dtype=int64)"
      ]
     },
     "execution_count": 78,
     "metadata": {},
     "output_type": "execute_result"
    }
   ],
   "source": [
    "res.argsort()\n"
   ]
  },
  {
   "cell_type": "code",
   "execution_count": 83,
   "id": "9093cde6-86f2-46a7-8a9e-097c847a5011",
   "metadata": {},
   "outputs": [
    {
     "data": {
      "text/plain": [
       "4"
      ]
     },
     "execution_count": 83,
     "metadata": {},
     "output_type": "execute_result"
    }
   ],
   "source": [
    "res[0].round(2).argsort()[-1]"
   ]
  },
  {
   "cell_type": "code",
   "execution_count": 82,
   "id": "fa606890-5103-42b6-9251-497ff7b3cb17",
   "metadata": {},
   "outputs": [
    {
     "data": {
      "text/plain": [
       "array([0.01, 0.15, 0.  , 0.  , 0.71, 0.02, 0.02, 0.07, 0.03, 0.  ])"
      ]
     },
     "execution_count": 82,
     "metadata": {},
     "output_type": "execute_result"
    }
   ],
   "source": [
    "res[0].round(2)"
   ]
  },
  {
   "cell_type": "code",
   "execution_count": 84,
   "id": "52f912df-b826-46a9-a170-1dd5fc35112a",
   "metadata": {},
   "outputs": [],
   "source": [
    "label=[]\n",
    "for i in range(res.shape[0]):\n",
    "    label.append(res[i].round(2).argsort()[-1])\n",
    "    "
   ]
  },
  {
   "cell_type": "code",
   "execution_count": 86,
   "id": "d543b5fa-23cc-4157-a50f-b08f8b575517",
   "metadata": {},
   "outputs": [],
   "source": [
    "label= [x+1 for x in label]"
   ]
  },
  {
   "cell_type": "code",
   "execution_count": 87,
   "id": "369b2cf3-c290-47d8-a188-0511eaa7c5a0",
   "metadata": {},
   "outputs": [],
   "source": [
    "file['Topic']= label"
   ]
  },
  {
   "cell_type": "code",
   "execution_count": 89,
   "id": "1544d132-b4cf-4a7c-aeef-091dafe50118",
   "metadata": {},
   "outputs": [
    {
     "data": {
      "text/html": [
       "<div>\n",
       "<style scoped>\n",
       "    .dataframe tbody tr th:only-of-type {\n",
       "        vertical-align: middle;\n",
       "    }\n",
       "\n",
       "    .dataframe tbody tr th {\n",
       "        vertical-align: top;\n",
       "    }\n",
       "\n",
       "    .dataframe thead th {\n",
       "        text-align: right;\n",
       "    }\n",
       "</style>\n",
       "<table border=\"1\" class=\"dataframe\">\n",
       "  <thead>\n",
       "    <tr style=\"text-align: right;\">\n",
       "      <th></th>\n",
       "      <th>Article</th>\n",
       "      <th>Topic</th>\n",
       "    </tr>\n",
       "  </thead>\n",
       "  <tbody>\n",
       "    <tr>\n",
       "      <th>11987</th>\n",
       "      <td>The number of law enforcement officers shot an...</td>\n",
       "      <td>6</td>\n",
       "    </tr>\n",
       "    <tr>\n",
       "      <th>11988</th>\n",
       "      <td>Trump is busy these days with victory tours,...</td>\n",
       "      <td>5</td>\n",
       "    </tr>\n",
       "    <tr>\n",
       "      <th>11989</th>\n",
       "      <td>It’s always interesting for the Goats and Soda...</td>\n",
       "      <td>9</td>\n",
       "    </tr>\n",
       "    <tr>\n",
       "      <th>11990</th>\n",
       "      <td>The election of Donald Trump was a surprise to...</td>\n",
       "      <td>8</td>\n",
       "    </tr>\n",
       "    <tr>\n",
       "      <th>11991</th>\n",
       "      <td>Voters in the English city of Sunderland did s...</td>\n",
       "      <td>7</td>\n",
       "    </tr>\n",
       "  </tbody>\n",
       "</table>\n",
       "</div>"
      ],
      "text/plain": [
       "                                                 Article  Topic\n",
       "11987  The number of law enforcement officers shot an...      6\n",
       "11988    Trump is busy these days with victory tours,...      5\n",
       "11989  It’s always interesting for the Goats and Soda...      9\n",
       "11990  The election of Donald Trump was a surprise to...      8\n",
       "11991  Voters in the English city of Sunderland did s...      7"
      ]
     },
     "execution_count": 89,
     "metadata": {},
     "output_type": "execute_result"
    }
   ],
   "source": [
    "file.tail()"
   ]
  },
  {
   "cell_type": "code",
   "execution_count": null,
   "id": "8eef9e11-5e75-49e9-98ff-77607b242eae",
   "metadata": {},
   "outputs": [],
   "source": []
  }
 ],
 "metadata": {
  "kernelspec": {
   "display_name": "Python 3",
   "language": "python",
   "name": "python3"
  },
  "language_info": {
   "codemirror_mode": {
    "name": "ipython",
    "version": 3
   },
   "file_extension": ".py",
   "mimetype": "text/x-python",
   "name": "python",
   "nbconvert_exporter": "python",
   "pygments_lexer": "ipython3",
   "version": "3.8.5"
  }
 },
 "nbformat": 4,
 "nbformat_minor": 5
}
